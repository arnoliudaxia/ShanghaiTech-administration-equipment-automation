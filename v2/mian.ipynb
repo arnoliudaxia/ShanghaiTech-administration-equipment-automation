{
 "cells": [
  {
   "cell_type": "code",
   "execution_count": 16,
   "metadata": {
    "collapsed": true,
    "ExecuteTime": {
     "end_time": "2023-11-07T12:19:06.870479800Z",
     "start_time": "2023-11-07T12:19:01.950387800Z"
    }
   },
   "outputs": [],
   "source": [
    "import openpyxl\n",
    "import logging\n",
    "\n",
    "wb = openpyxl.load_workbook(\"data/计算资产总价值test foryifei 测试1.xlsx\")\n",
    "ws = wb.active\n"
   ]
  },
  {
   "cell_type": "code",
   "execution_count": 17,
   "outputs": [],
   "source": [
    "rowNumber=ws.max_row\n",
    "keywordTable={}\n",
    "keywordRow=ws[1]\n",
    "for index in range(len(keywordRow)):\n",
    "    keywordTable[keywordRow[index].value]=index+1"
   ],
   "metadata": {
    "collapsed": false,
    "ExecuteTime": {
     "end_time": "2023-11-07T12:19:06.947635500Z",
     "start_time": "2023-11-07T12:19:06.871480Z"
    }
   }
  },
  {
   "cell_type": "code",
   "execution_count": 29,
   "outputs": [],
   "source": [
    "# 首先初始化所有计算后价值为单独价值\n",
    "## 当然首先要开一个新col\n",
    "calculatedValueIndex=ws.max_column+1 # 最后新开一列\n",
    "if \"合并后资产价值\" in keywordTable:\n",
    "    # 如果已经存在的话就覆盖重新算一次\n",
    "    calculatedValueIndex=keywordTable[\"合并后资产价值\"]\n",
    "ws.cell(row=1,column=calculatedValueIndex,value=\"合并后资产价值\")\n",
    "for i in range(2,rowNumber):\n",
    "    myValue=ws.cell(row=i,column=keywordTable[\"单价/元\"]).value\n",
    "    ws.cell(row=i,column=calculatedValueIndex,value=myValue)"
   ],
   "metadata": {
    "collapsed": false,
    "ExecuteTime": {
     "end_time": "2023-11-07T12:26:19.034734300Z",
     "start_time": "2023-11-07T12:26:18.970236200Z"
    }
   }
  },
  {
   "cell_type": "code",
   "execution_count": 30,
   "outputs": [
    {
     "name": "stderr",
     "output_type": "stream",
     "text": [
      "ERROR:root:子资产没有找到对应的父资产2013010223!!\n",
      "ERROR:root:子资产没有找到对应的父资产2013010223!!\n",
      "ERROR:root:子资产没有找到对应的父资产2013010510!!\n",
      "ERROR:root:子资产没有找到对应的父资产2013010510!!\n",
      "ERROR:root:子资产没有找到对应的父资产2013010510!!\n",
      "ERROR:root:子资产没有找到对应的父资产2014010196!!\n",
      "ERROR:root:子资产没有找到对应的父资产2014010196!!\n",
      "ERROR:root:子资产没有找到对应的父资产2014010196!!\n",
      "ERROR:root:子资产没有找到对应的父资产2014010196!!\n",
      "ERROR:root:子资产没有找到对应的父资产2014010348!!\n",
      "ERROR:root:子资产没有找到对应的父资产2014010440!!\n",
      "ERROR:root:子资产没有找到对应的父资产2014010440!!\n",
      "ERROR:root:子资产没有找到对应的父资产2014010440!!\n",
      "ERROR:root:子资产没有找到对应的父资产2014010441!!\n",
      "ERROR:root:子资产没有找到对应的父资产2014010467!!\n",
      "ERROR:root:子资产没有找到对应的父资产2014010495!!\n",
      "ERROR:root:子资产没有找到对应的父资产2014010495!!\n",
      "ERROR:root:子资产没有找到对应的父资产2014010495!!\n",
      "ERROR:root:子资产没有找到对应的父资产2014010495!!\n",
      "ERROR:root:子资产没有找到对应的父资产2014010630!!\n",
      "ERROR:root:子资产没有找到对应的父资产2014010630!!\n",
      "ERROR:root:子资产没有找到对应的父资产2014010630!!\n",
      "ERROR:root:子资产没有找到对应的父资产2014010792!!\n",
      "ERROR:root:子资产没有找到对应的父资产2014010900!!\n",
      "ERROR:root:子资产没有找到对应的父资产2014011253!!\n",
      "ERROR:root:子资产没有找到对应的父资产2014011253!!\n",
      "ERROR:root:子资产没有找到对应的父资产2014011381!!\n",
      "ERROR:root:子资产没有找到对应的父资产2014011410!!\n",
      "ERROR:root:子资产没有找到对应的父资产2014011410!!\n",
      "ERROR:root:子资产没有找到对应的父资产2014011539!!\n",
      "ERROR:root:子资产没有找到对应的父资产2014011585!!\n",
      "ERROR:root:子资产没有找到对应的父资产2014011585!!\n",
      "ERROR:root:子资产没有找到对应的父资产2014011870!!\n",
      "ERROR:root:子资产没有找到对应的父资产2014011870!!\n",
      "ERROR:root:子资产没有找到对应的父资产2014011870!!\n",
      "ERROR:root:子资产没有找到对应的父资产2014011870!!\n",
      "ERROR:root:子资产没有找到对应的父资产2014011870!!\n",
      "ERROR:root:子资产没有找到对应的父资产2014011870!!\n",
      "ERROR:root:子资产没有找到对应的父资产2014011870!!\n",
      "ERROR:root:子资产没有找到对应的父资产2014011870!!\n",
      "ERROR:root:子资产没有找到对应的父资产2014011870!!\n",
      "ERROR:root:子资产没有找到对应的父资产2014011870!!\n",
      "ERROR:root:子资产没有找到对应的父资产2014011871!!\n",
      "ERROR:root:子资产没有找到对应的父资产2014011871!!\n",
      "ERROR:root:子资产没有找到对应的父资产2014011871!!\n",
      "ERROR:root:子资产没有找到对应的父资产2014011871!!\n",
      "ERROR:root:子资产没有找到对应的父资产2014011871!!\n",
      "ERROR:root:子资产没有找到对应的父资产2014011871!!\n",
      "ERROR:root:子资产没有找到对应的父资产2014011871!!\n",
      "ERROR:root:子资产没有找到对应的父资产2014011872!!\n",
      "ERROR:root:子资产没有找到对应的父资产2014011872!!\n",
      "ERROR:root:子资产没有找到对应的父资产2014011872!!\n",
      "ERROR:root:子资产没有找到对应的父资产2014011872!!\n",
      "ERROR:root:子资产没有找到对应的父资产2014011872!!\n",
      "ERROR:root:子资产没有找到对应的父资产2014011872!!\n",
      "ERROR:root:子资产没有找到对应的父资产2014011872!!\n",
      "ERROR:root:子资产没有找到对应的父资产2014011872!!\n",
      "ERROR:root:子资产没有找到对应的父资产2015010048!!\n",
      "ERROR:root:子资产没有找到对应的父资产2015010296!!\n",
      "ERROR:root:子资产没有找到对应的父资产2015010571!!\n",
      "ERROR:root:子资产没有找到对应的父资产2015011184!!\n",
      "ERROR:root:子资产没有找到对应的父资产2015011191!!\n",
      "ERROR:root:子资产没有找到对应的父资产2015011191!!\n",
      "ERROR:root:子资产没有找到对应的父资产2015011191!!\n",
      "ERROR:root:子资产没有找到对应的父资产2015011191!!\n",
      "ERROR:root:子资产没有找到对应的父资产2015011191!!\n",
      "ERROR:root:子资产没有找到对应的父资产2015011379!!\n",
      "ERROR:root:子资产没有找到对应的父资产2015011379!!\n",
      "ERROR:root:子资产没有找到对应的父资产2015011379!!\n",
      "ERROR:root:子资产没有找到对应的父资产2015011379!!\n",
      "ERROR:root:子资产没有找到对应的父资产2015011380!!\n",
      "ERROR:root:子资产没有找到对应的父资产2015011380!!\n",
      "ERROR:root:子资产没有找到对应的父资产2015011380!!\n",
      "ERROR:root:子资产没有找到对应的父资产2015011380!!\n",
      "ERROR:root:子资产没有找到对应的父资产2015011380!!\n",
      "ERROR:root:子资产没有找到对应的父资产2015011380!!\n",
      "ERROR:root:子资产没有找到对应的父资产2015011381!!\n",
      "ERROR:root:子资产没有找到对应的父资产2015011381!!\n",
      "ERROR:root:子资产没有找到对应的父资产2015011381!!\n",
      "ERROR:root:子资产没有找到对应的父资产2015011381!!\n",
      "ERROR:root:子资产没有找到对应的父资产2015011381!!\n",
      "ERROR:root:子资产没有找到对应的父资产2015011381!!\n",
      "ERROR:root:子资产没有找到对应的父资产2015011598!!\n",
      "ERROR:root:子资产没有找到对应的父资产2015011598!!\n",
      "ERROR:root:子资产没有找到对应的父资产2015011598!!\n",
      "ERROR:root:子资产没有找到对应的父资产2015012882!!\n",
      "ERROR:root:子资产没有找到对应的父资产2015013135!!\n",
      "ERROR:root:子资产没有找到对应的父资产2015013135!!\n",
      "ERROR:root:子资产没有找到对应的父资产2015013136!!\n",
      "ERROR:root:子资产没有找到对应的父资产2015013136!!\n",
      "ERROR:root:子资产没有找到对应的父资产2015013139!!\n",
      "ERROR:root:子资产没有找到对应的父资产2015013394!!\n",
      "ERROR:root:子资产没有找到对应的父资产2016010158!!\n",
      "ERROR:root:子资产没有找到对应的父资产2016010158!!\n",
      "ERROR:root:子资产没有找到对应的父资产2016010158!!\n",
      "ERROR:root:子资产没有找到对应的父资产2016010364!!\n",
      "ERROR:root:子资产没有找到对应的父资产2016010678!!\n",
      "ERROR:root:子资产没有找到对应的父资产2016010678!!\n",
      "ERROR:root:子资产没有找到对应的父资产2016010932!!\n",
      "ERROR:root:子资产没有找到对应的父资产2016011541!!\n",
      "ERROR:root:子资产没有找到对应的父资产2016011630!!\n",
      "ERROR:root:子资产没有找到对应的父资产2016011760!!\n",
      "ERROR:root:子资产没有找到对应的父资产2016015271!!\n"
     ]
    }
   ],
   "source": [
    "parentAssetSet=set()\n",
    "parentAssetTable={} # 为了更快地合并自资产的价值，建立一个父资产row_index的字典\n",
    "parentIndex=keywordTable[\"父资产编号\"]\n",
    "AssetIndex=keywordTable[\"资产编号\"]\n",
    "# 这个循环找到所有的负资产\n",
    "for i in range(2,rowNumber):\n",
    "    cellValue=ws.cell(row=i,column=parentIndex).value\n",
    "    if cellValue not in parentAssetSet:\n",
    "        parentAssetSet.add(cellValue)\n",
    "# 记录所有负资产的行号\n",
    "for i in range(2,rowNumber):\n",
    "    cellValue:str=str(ws.cell(row=i,column=AssetIndex).value)\n",
    "    # 如果是-1这种的要把后缀全部忽略掉\n",
    "    # if \"-\" in cellValue:\n",
    "    #     cellValue=cellValue.split(\"-\")[0]\n",
    "    if cellValue in parentAssetSet:\n",
    "        parentAssetTable[cellValue]=i\n",
    "## 然后找到所有「是否为配件/增值」为「是」的配件\n",
    "isExtra=keywordTable[\"是否为配件/增值\"]\n",
    "for i in range(2,rowNumber):\n",
    "    if ws.cell(row=i,column=isExtra).value==\"是\":\n",
    "        parentAsset=ws.cell(row=i,column=parentIndex).value # 我的父资产编号\n",
    "        if parentAsset not in parentAssetTable:\n",
    "            logging.error(f'子资产没有找到对应的父资产{parentAsset}!!')\n",
    "            continue\n",
    "        mergedValue=ws.cell(row=parentAssetTable[parentAsset],column=calculatedValueIndex).value+ws.cell(row=i,column=keywordTable[\"单价/元\"]).value\n",
    "        ws.cell(row=parentAssetTable[parentAsset],column=calculatedValueIndex,value=mergedValue)\n",
    "        ws.cell(row=i,column=calculatedValueIndex,value=0)"
   ],
   "metadata": {
    "collapsed": false,
    "ExecuteTime": {
     "end_time": "2023-11-07T12:26:20.280040800Z",
     "start_time": "2023-11-07T12:26:20.213069100Z"
    }
   }
  },
  {
   "cell_type": "code",
   "execution_count": 20,
   "outputs": [],
   "source": [
    "from datetime import datetime\n",
    "\n",
    "def get_current_datetime():\n",
    "    now = datetime.now()\n",
    "    formatted_datetime = now.strftime(\"%m%d-%H%M%S\")\n",
    "    return formatted_datetime"
   ],
   "metadata": {
    "collapsed": false,
    "ExecuteTime": {
     "end_time": "2023-11-07T12:19:07.073510Z",
     "start_time": "2023-11-07T12:19:07.058475900Z"
    }
   }
  },
  {
   "cell_type": "code",
   "execution_count": 31,
   "outputs": [],
   "source": [
    "wb.save(f'test_openpyxl_{get_current_datetime()}.xlsx')"
   ],
   "metadata": {
    "collapsed": false,
    "ExecuteTime": {
     "end_time": "2023-11-07T12:26:33.363150800Z",
     "start_time": "2023-11-07T12:26:26.406813900Z"
    }
   }
  },
  {
   "cell_type": "code",
   "execution_count": 27,
   "outputs": [],
   "source": [
    "# 测试代码块"
   ],
   "metadata": {
    "collapsed": false,
    "ExecuteTime": {
     "end_time": "2023-11-07T12:24:21.301859700Z",
     "start_time": "2023-11-07T12:24:21.292903400Z"
    }
   }
  }
 ],
 "metadata": {
  "kernelspec": {
   "display_name": "Python 3",
   "language": "python",
   "name": "python3"
  },
  "language_info": {
   "codemirror_mode": {
    "name": "ipython",
    "version": 2
   },
   "file_extension": ".py",
   "mimetype": "text/x-python",
   "name": "python",
   "nbconvert_exporter": "python",
   "pygments_lexer": "ipython2",
   "version": "2.7.6"
  }
 },
 "nbformat": 4,
 "nbformat_minor": 0
}
